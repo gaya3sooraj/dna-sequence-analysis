{
 "cells": [
  {
   "cell_type": "markdown",
   "id": "bb6952fe-df52-41f9-9e4a-9a76a6a66573",
   "metadata": {},
   "source": [
    "# DNA Sequence Analysis\n",
    "\n",
    "## 1. Introduction\n",
    "\n",
    "In this project, we use the BioPython library to manipulate and analyse DNA sequence data. DNA, the carrier of genetic information, consists of nucleotides—adenine (A), thymine (T), cytosine (C), and guanine (G). Understanding DNA sequence characteristics is vital across genetic research, disease diagnosis, drug development, and evolutionary studies.\n",
    "\n",
    "The project involves various analyses, starting with fundamental properties like nucleotide composition and GC content. These provide insights into nucleotide distribution and DNA stability. Advanced analyses include Tri-nucleotide compositions (Tri-mer), protein synthesis simulation, protein analysis, and Codon Usage Analysis."
   ]
  },
  {
   "cell_type": "markdown",
   "id": "c53d0623-6903-4ab3-94f2-32ec1c6cee4b",
   "metadata": {},
   "source": [
    "## 2. BioPython\n",
    "\n",
    "Biopython is an open-source Python library designed for computational biology and bioinformatics tasks. It provides tools and modules for working with biological data, including DNA and protein sequences, sequence alignments, protein structures, and more. Biopython facilitates various bioinformatics analyses, such as sequence manipulation, parsing and writing sequence file formats, performing sequence alignments, accessing online biological databases, and executing advanced computational biology algorithms. \n"
   ]
  },
  {
   "cell_type": "markdown",
   "id": "253d9fee-7d19-4e0b-9db8-2577aab4e812",
   "metadata": {},
   "source": [
    "## 3. DNA"
   ]
  },
  {
   "cell_type": "markdown",
   "id": "69fa092d-c9c0-4ecc-acfb-21d30cb22ce0",
   "metadata": {},
   "source": [
    "![Image Alt Text](images/dna.jpeg)"
   ]
  },
  {
   "cell_type": "markdown",
   "id": "be821c45-7edb-4a7b-897d-ffbee008b45b",
   "metadata": {},
   "source": [
    "Deoxyribonucleic acid (DNA) is a molecule found in the cells of all living organisms, carrying the genetic instructions necessary for their growth, development, functioning, and reproduction. Structurally, DNA consists of two long chains, or strands, coiled around each other to form a double helix. Each strand is composed of smaller units called **nucleotides**, which contain a sugar-phosphate backbone and one of four nitrogenous bases: \n",
    "- adenine (A)\n",
    "- thymine (T)\n",
    "- cytosine (C)\n",
    "- guanine (G)\n",
    "\n",
    "The sequence of these bases along the DNA strands encodes the genetic information, with specific sequences representing genes responsible for various biological traits and functions. DNA undergoes processes such as replication, **transcription**, and **translation** to propagate genetic information and produce **proteins**, which are essential for the functioning of cells and organisms. Understanding DNA's structure, function, and interactions is fundamental to fields such as genetics, molecular biology, medicine, and biotechnology, enabling advancements in areas ranging from disease diagnosis and treatment to genetic engineering and evolutionary studies."
   ]
  },
  {
   "cell_type": "markdown",
   "id": "2c0361f2-049c-459e-86d0-9a0f83ae05d8",
   "metadata": {},
   "source": [
    "## 4. Data Analysis"
   ]
  },
  {
   "cell_type": "markdown",
   "id": "d29107c5-b135-4467-b18b-b40ad1f722fe",
   "metadata": {},
   "source": [
    "#### Importing Libraries and Modules"
   ]
  },
  {
   "cell_type": "code",
   "execution_count": 2,
   "id": "2be11e31-c77d-45e0-892e-0c161a1254b6",
   "metadata": {},
   "outputs": [],
   "source": [
    "import Bio\n",
    "from Bio.Seq import Seq\n",
    "from Bio.SeqRecord import SeqRecord\n",
    "from Bio import SeqIO\n",
    "from Bio import AlignIO\n",
    "from Bio.pairwise2 import format_alignment \n",
    "from Bio.Align import MultipleSeqAlignment\n",
    "from Bio.Blast import NCBIWWW\n",
    "from Bio.SeqUtils.ProtParam import ProteinAnalysis\n",
    "from Bio.Data import CodonTable\n",
    "import nglview as nv\n",
    "from colorama import Back, Style, Fore\n",
    "import matplotlib.pyplot as plt\n",
    "%matplotlib inline\n",
    "import seaborn as sns\n",
    "import pandas as pd\n",
    "import numpy as np "
   ]
  },
  {
   "cell_type": "code",
   "execution_count": 3,
   "id": "d6d1f255-8a59-4135-ac24-ad9eed3f7c82",
   "metadata": {},
   "outputs": [],
   "source": [
    "import sys\n",
    "import os\n",
    "\n",
    "sys.path.append(os.path.abspath('analysis'))\n",
    "sys.path.append(os.path.abspath('images'))\n",
    "\n",
    "import dna_analysis as da"
   ]
  },
  {
   "cell_type": "markdown",
   "id": "b12efae6-9a79-4937-877b-9f1ec180f496",
   "metadata": {},
   "source": [
    "### 4.1 DNA Sequence Data\n",
    "\n",
    "The data used in this analysis originates from the [Protein Data Bank (PDB)](https://www.rcsb.org/structure/6lu7). The dataset consists of the crystal structure of the COVID-19 main protease in complex with an inhibitor N3. This structure provides valuable insights into the molecular interactions between the viral protease and the inhibitor molecule. The genome sequence is represented by a string of nucleotides, including adenine (A), thymine (T), cytosine (C), and guanine (G). "
   ]
  },
  {
   "cell_type": "code",
   "execution_count": 4,
   "id": "7f08a827-1c22-4199-88a4-5f7d890520b4",
   "metadata": {},
   "outputs": [
    {
     "data": {
      "text/plain": [
       "SeqRecord(seq=Seq('TCCCAGGTAACAAACCAACCAACTTTCGATCTCTTGTAGATCTGTTCTCTAAAC...AGG'), id='MW463452.1', name='MW463452.1', description='MW463452.1 Severe acute respiratory syndrome coronavirus 2 isolate SARS-CoV-2/human/TUN/TUN-20212285/2021, complete genome', dbxrefs=[])"
      ]
     },
     "execution_count": 4,
     "metadata": {},
     "output_type": "execute_result"
    }
   ],
   "source": [
    "cov_record = SeqIO.read(\"data/sequence.fasta\", \"fasta\")\n",
    "cov_record"
   ]
  },
  {
   "cell_type": "markdown",
   "id": "b71e49b5-63f3-447e-a793-1e9c9c96998e",
   "metadata": {},
   "source": [
    "#### Sequence Length\n",
    "The genome sequence length refers to the total number of nucleotides in an organism's entire genome, encompassing all of its DNA. "
   ]
  },
  {
   "cell_type": "code",
   "execution_count": 5,
   "id": "2b16db3b-7720-46ec-a64d-87802a71c4d0",
   "metadata": {},
   "outputs": [
    {
     "name": "stdout",
     "output_type": "stream",
     "text": [
      "Genome sequence length:  29845\n"
     ]
    }
   ],
   "source": [
    "sequence_length = len(cov_record.seq)\n",
    "print(\"Genome sequence length: \", sequence_length)"
   ]
  },
  {
   "cell_type": "markdown",
   "id": "be66d2d1-0278-497b-b996-b51437d37376",
   "metadata": {},
   "source": [
    "### 4.2 Nucleotide Composition\n",
    "Analyzing nucleotide composition involves counting the occurrences of each nucleotide in a sequence and calculating their respective percentages. "
   ]
  },
  {
   "cell_type": "markdown",
   "id": "df849314-18f3-4820-96d8-8680f38db5be",
   "metadata": {},
   "source": [
    "#### Cleaning the sequence"
   ]
  },
  {
   "cell_type": "code",
   "execution_count": 6,
   "id": "e8725c95-a08a-421c-a0b5-f9cdb4d94b05",
   "metadata": {},
   "outputs": [
    {
     "data": {
      "text/plain": [
       "Seq('TCCCAGGTAACAAACCAACCAACTTTCGATCTCTTGTAGATCTGTTCTCTAAAC...AGG')"
      ]
     },
     "execution_count": 6,
     "metadata": {},
     "output_type": "execute_result"
    }
   ],
   "source": [
    "#Display the sequence\n",
    "cov_dna = cov_record.seq\n",
    "cov_dna"
   ]
  },
  {
   "cell_type": "code",
   "execution_count": 7,
   "id": "f67d86e5-55c8-40c3-a76f-7ef60669eee4",
   "metadata": {},
   "outputs": [
    {
     "name": "stdout",
     "output_type": "stream",
     "text": [
      "Counts of each nucleotide:\n",
      "{'A': 8899, 'T': 9588, 'G': 5851, 'C': 5480, 'N': 27, 'Others': 0}\n"
     ]
    }
   ],
   "source": [
    "#Count of nucleotide\n",
    "counts = {'A': 0, 'T': 0, 'G': 0, 'C': 0, 'N': 0, 'Others': 0}\n",
    "for base in cov_dna:\n",
    "    if base in counts:\n",
    "        counts[base] += 1\n",
    "    else:\n",
    "        counts['Others'] += 1\n",
    "\n",
    "print(\"Counts of each nucleotide:\")\n",
    "print(counts)"
   ]
  },
  {
   "cell_type": "markdown",
   "id": "c3188c38-3370-49ec-aa5c-8833a5f4c4eb",
   "metadata": {},
   "source": [
    "#### Observations\n",
    "The letter 'N' in a nucleotide sequence typically represents an ambiguous base call, indicating that the exact nucleotide at that position is unknown or uncertain. It could result from various reasons such as sequencing errors, incomplete sequencing, or genetic variations within a population. In the context of genomic data, 'N' is often used as a placeholder to denote any nucleotide (A, T, C, or G) when the specific base cannot be determined with certainty."
   ]
  },
  {
   "cell_type": "code",
   "execution_count": 8,
   "id": "e1a763c0-59f7-4dcc-9a7e-255fec66592a",
   "metadata": {},
   "outputs": [],
   "source": [
    "cleaned_cov_dna = ''.join([base for base in cov_dna if base != 'N'])"
   ]
  },
  {
   "cell_type": "code",
   "execution_count": 9,
   "id": "1d0ad5f8-e329-4173-8fc6-6af5f44179d4",
   "metadata": {},
   "outputs": [
    {
     "name": "stdout",
     "output_type": "stream",
     "text": [
      "COVID-19 genome: \n",
      "\n",
      "\u001b[44mT\u001b[43mC\u001b[43mC\u001b[43mC\u001b[42mA\u001b[41mG\u001b[41mG\u001b[44mT\u001b[42mA\u001b[42mA\u001b[0m \u001b[43mC\u001b[42mA\u001b[42mA\u001b[42mA\u001b[43mC\u001b[43mC\u001b[42mA\u001b[42mA\u001b[43mC\u001b[43mC\u001b[0m \u001b[42mA\u001b[42mA\u001b[43mC\u001b[44mT\u001b[44mT\u001b[44mT\u001b[43mC\u001b[41mG\u001b[42mA\u001b[44mT\u001b[0m \u001b[43mC\u001b[44mT\u001b[43mC\u001b[44mT\u001b[44mT\u001b[41mG\u001b[44mT\u001b[42mA\u001b[41mG\u001b[42mA\u001b[0m \u001b[44mT\u001b[43mC\u001b[44mT\u001b[41mG\u001b[44mT\u001b[44mT\u001b[43mC\u001b[44mT\u001b[43mC\u001b[44mT\u001b[0m \u001b[42mA\u001b[42mA\u001b[42mA\u001b[43mC\u001b[41mG\u001b[42mA\u001b[42mA\u001b[43mC\u001b[44mT\u001b[44mT\n",
      "\u001b[44mT\u001b[42mA\u001b[42mA\u001b[42mA\u001b[42mA\u001b[44mT\u001b[43mC\u001b[44mT\u001b[41mG\u001b[44mT\u001b[0m \u001b[41mG\u001b[44mT\u001b[41mG\u001b[41mG\u001b[43mC\u001b[44mT\u001b[41mG\u001b[44mT\u001b[43mC\u001b[42mA\u001b[0m \u001b[43mC\u001b[44mT\u001b[43mC\u001b[41mG\u001b[41mG\u001b[43mC\u001b[44mT\u001b[41mG\u001b[43mC\u001b[42mA\u001b[0m \u001b[44mT\u001b[41mG\u001b[43mC\u001b[44mT\u001b[44mT\u001b[42mA\u001b[41mG\u001b[44mT\u001b[41mG\u001b[43mC\u001b[0m \u001b[42mA\u001b[43mC\u001b[44mT\u001b[43mC\u001b[42mA\u001b[43mC\u001b[41mG\u001b[43mC\u001b[42mA\u001b[41mG\u001b[0m \u001b[44mT\u001b[42mA\u001b[44mT\u001b[42mA\u001b[42mA\u001b[44mT\u001b[44mT\u001b[42mA\u001b[42mA\u001b[44mT\n",
      "\u001b[42mA\u001b[42mA\u001b[43mC\u001b[44mT\u001b[42mA\u001b[42mA\u001b[44mT\u001b[44mT\u001b[42mA\u001b[43mC\u001b[0m \u001b[44mT\u001b[41mG\u001b[44mT\u001b[43mC\u001b[41mG\u001b[44mT\u001b[44mT\u001b[41mG\u001b[42mA\u001b[43mC\u001b[0m \u001b[42mA\u001b[41mG\u001b[41mG\u001b[42mA\u001b[43mC\u001b[42mA\u001b[43mC\u001b[41mG\u001b[42mA\u001b[41mG\u001b[0m \u001b[44mT\u001b[42mA\u001b[42mA\u001b[43mC\u001b[44mT\u001b[43mC\u001b[41mG\u001b[44mT\u001b[43mC\u001b[44mT\u001b[0m \u001b[42mA\u001b[44mT\u001b[43mC\u001b[44mT\u001b[44mT\u001b[43mC\u001b[44mT\u001b[41mG\u001b[43mC\u001b[42mA\u001b[0m \u001b[41mG\u001b[41mG\u001b[43mC\u001b[44mT\u001b[41mG\u001b[43mC\u001b[44mT\u001b[44mT\u001b[42mA\u001b[43mC"
     ]
    }
   ],
   "source": [
    "print(\"COVID-19 genome: \\n\")\n",
    "da.seq_repr(cleaned_cov_dna[0:180])"
   ]
  },
  {
   "cell_type": "markdown",
   "id": "2969b698-13b1-4cf1-aed1-64bdf114cc34",
   "metadata": {},
   "source": [
    "#### Finding the Composition of each Nucleotide"
   ]
  },
  {
   "cell_type": "code",
   "execution_count": 10,
   "id": "dc12dc60-4e8c-4ec2-a063-5a9cd77874fd",
   "metadata": {},
   "outputs": [
    {
     "data": {
      "text/html": [
       "<div>\n",
       "<style scoped>\n",
       "    .dataframe tbody tr th:only-of-type {\n",
       "        vertical-align: middle;\n",
       "    }\n",
       "\n",
       "    .dataframe tbody tr th {\n",
       "        vertical-align: top;\n",
       "    }\n",
       "\n",
       "    .dataframe thead th {\n",
       "        text-align: right;\n",
       "    }\n",
       "</style>\n",
       "<table border=\"1\" class=\"dataframe\">\n",
       "  <thead>\n",
       "    <tr style=\"text-align: right;\">\n",
       "      <th></th>\n",
       "      <th>Nucleotide</th>\n",
       "      <th>Composition</th>\n",
       "    </tr>\n",
       "  </thead>\n",
       "  <tbody>\n",
       "    <tr>\n",
       "      <th>0</th>\n",
       "      <td>A</td>\n",
       "      <td>29.844389</td>\n",
       "    </tr>\n",
       "    <tr>\n",
       "      <th>1</th>\n",
       "      <td>C</td>\n",
       "      <td>18.378161</td>\n",
       "    </tr>\n",
       "    <tr>\n",
       "      <th>2</th>\n",
       "      <td>G</td>\n",
       "      <td>19.622376</td>\n",
       "    </tr>\n",
       "    <tr>\n",
       "      <th>3</th>\n",
       "      <td>T</td>\n",
       "      <td>32.155074</td>\n",
       "    </tr>\n",
       "  </tbody>\n",
       "</table>\n",
       "</div>"
      ],
      "text/plain": [
       "  Nucleotide  Composition\n",
       "0          A    29.844389\n",
       "1          C    18.378161\n",
       "2          G    19.622376\n",
       "3          T    32.155074"
      ]
     },
     "execution_count": 10,
     "metadata": {},
     "output_type": "execute_result"
    }
   ],
   "source": [
    "ndna = da.nucleotides_composition(cleaned_cov_dna)\n",
    "ndf = pd.DataFrame.from_dict(ndna, orient ='index')\n",
    "ndf = ndf.reset_index()\n",
    "ndf = ndf.rename(columns={\"index\": \"Nucleotide\", 0: \"Composition\"})\n",
    "ndf"
   ]
  },
  {
   "cell_type": "markdown",
   "id": "b7779c24-c29f-4bc4-98e4-a20d179dd605",
   "metadata": {},
   "source": [
    "#### Visualising Nucleotide Composition"
   ]
  },
  {
   "cell_type": "code",
   "execution_count": 11,
   "id": "72c60867-96f6-41a8-b513-9c8894e23c27",
   "metadata": {},
   "outputs": [
    {
     "data": {
      "image/png": "[encoded data removed]",
      "text/plain": [
       "<Figure size 640x480 with 1 Axes>"
      ]
     },
     "metadata": {},
     "output_type": "display_data"
    }
   ],
   "source": [
    "ax = sns.barplot(x=\"Nucleotide\", y=\"Composition\", data=ndf, hue=\"Nucleotide\")"
   ]
  },
  {
   "cell_type": "markdown",
   "id": "ec3c268f-0ee9-4824-ad94-159cde6ad1bd",
   "metadata": {},
   "source": [
    "### 4.3 Calculating GC-content of the DNA\n",
    "The GC content refers to the percentage of nucleotides in a DNA sequence that are either guanine (G) or cytosine (C). It is a crucial metric as it reflects the stability and melting temperature of DNA, which can influence various biological processes such as DNA replication, transcription, and translation."
   ]
  },
  {
   "cell_type": "code",
   "execution_count": 12,
   "id": "74a890c3-0af9-4a46-a841-112cbc4910bd",
   "metadata": {},
   "outputs": [
    {
     "name": "stdout",
     "output_type": "stream",
     "text": [
      "GC content: 38.000536588637736\n"
     ]
    }
   ],
   "source": [
    "gc_content = da.calculate_gc_content(cleaned_cov_dna)\n",
    "print(\"GC content:\", gc_content)"
   ]
  },
  {
   "cell_type": "markdown",
   "id": "1a3c3552-9b16-48c5-ac8d-479f89f004d9",
   "metadata": {},
   "source": [
    "### 4.4 Tri-nucleotide compositions (Tri-mer)\n",
    "Tri-nucleotide compositions, often referred to as tri-mers, represent the frequencies of all possible combinations of three nucleotides (A, T, G, and C) within a DNA sequence. \n",
    "- **Composition**: Tri-nucleotide composition, or Tri-mer composition, refers to the distribution or abundance of all possible combinations of three consecutive nucleotides (e.g., AAA, AAC, AAG, AAT, ACA, etc.) within a DNA sequence.\n",
    "- **Total Composition**: Total Tri-mer composition refers to the sum of the abundances of all possible Tri-mers present in the DNA sequence.\n",
    "- **Normalized Frequency**: Normalized Tri-mer frequency involves dividing the count of each Tri-mer by the total number of Tri-mers in the sequence."
   ]
  },
  {
   "cell_type": "code",
   "execution_count": 13,
   "id": "ca5f1e17-e031-462f-9b6e-4f0f5cd82d9d",
   "metadata": {},
   "outputs": [],
   "source": [
    "composition, total_composition, norm_freq = da.trimer_composition(cleaned_cov_dna)"
   ]
  },
  {
   "cell_type": "code",
   "execution_count": 14,
   "id": "d16b87b6-44c9-4298-8d94-ee55c0e47824",
   "metadata": {},
   "outputs": [
    {
     "name": "stdout",
     "output_type": "stream",
     "text": [
      "Trimer Composition:\n",
      "\n",
      "{'AAA': 641, 'AAC': 615, 'AAG': 575, 'AAT': 760, 'ACA': 755, 'ACC': 371, 'ACG': 164, 'ACT': 675, 'AGA': 567, 'AGC': 300, 'AGG': 328, 'ATA': 447, 'ATC': 339, 'ATG': 723, 'CAA': 702, 'CAC': 427, 'CAG': 437, 'CCA': 354, 'CCC': 102, 'CCG': 73, 'CGA': 95, 'CGC': 94, 'CTA': 555, 'CTC': 270, 'GAA': 531, 'GAC': 338, 'GCA': 371, 'GCC': 188, 'GGA': 281, 'GTA': 468, 'TAA': 717, 'TCA': 551}\n",
      "\n",
      "\n",
      "Total Composition:\n",
      "\n",
      "13814\n",
      "\n",
      "\n",
      "Normalised Frequency:\n",
      "\n",
      "[0.046402200665991024, 0.04452005212103663, 0.041624438974952944, 0.05501664977558998, 0.054654698132329524, 0.02685681192992616, 0.011872013898943101, 0.048863471840162154, 0.04104531634573621, 0.021717098595627624, 0.023744027797886202, 0.03235847690748516, 0.024540321413059216, 0.052338207615462574, 0.05081801071376864, 0.030910670334443318, 0.03163457362096424, 0.025626176342840597, 0.007383813522513392, 0.005284493991602722, 0.006877081221948748, 0.006804690893296656, 0.040176632401911105, 0.019545388736064862, 0.03843926451426089, 0.024467931084407122, 0.02685681192992616, 0.013609381786593312, 0.020341682351237875, 0.0338786738091791, 0.05190386564355002, 0.03988707108730274]\n"
     ]
    }
   ],
   "source": [
    "print(\"Trimer Composition:\\n\")\n",
    "print(composition)\n",
    "print(\"\\n\\nTotal Composition:\\n\")\n",
    "print(total_composition)\n",
    "print(\"\\n\\nNormalised Frequency:\\n\")\n",
    "print(norm_freq)"
   ]
  },
  {
   "cell_type": "code",
   "execution_count": 15,
   "id": "7d97d31f-22cb-45f8-a134-f13b8a0a631d",
   "metadata": {},
   "outputs": [
    {
     "data": {
      "text/html": [
       "<style type=\"text/css\">\n",
       "#T_a7666_row0_col1 {\n",
       "  width: 10em;\n",
       "  background: linear-gradient(90deg, # 100.0%, transparent 100.0%);\n",
       "  background-color: #67000d;\n",
       "  color: #f1f1f1;\n",
       "}\n",
       "#T_a7666_row1_col1 {\n",
       "  width: 10em;\n",
       "  background: linear-gradient(90deg, # 99.3%, transparent 99.3%);\n",
       "  background-color: #69000d;\n",
       "  color: #f1f1f1;\n",
       "}\n",
       "#T_a7666_row2_col1 {\n",
       "  width: 10em;\n",
       "  background: linear-gradient(90deg, # 95.1%, transparent 95.1%);\n",
       "  background-color: #800610;\n",
       "  color: #f1f1f1;\n",
       "}\n",
       "#T_a7666_row3_col1 {\n",
       "  width: 10em;\n",
       "  background: linear-gradient(90deg, # 94.3%, transparent 94.3%);\n",
       "  background-color: #860811;\n",
       "  color: #f1f1f1;\n",
       "}\n",
       "#T_a7666_row4_col1 {\n",
       "  width: 10em;\n",
       "  background: linear-gradient(90deg, # 92.4%, transparent 92.4%);\n",
       "  background-color: #900a12;\n",
       "  color: #f1f1f1;\n",
       "}\n",
       "#T_a7666_row5_col1 {\n",
       "  width: 10em;\n",
       "  background: linear-gradient(90deg, # 88.8%, transparent 88.8%);\n",
       "  background-color: #a30f15;\n",
       "  color: #f1f1f1;\n",
       "}\n",
       "#T_a7666_row6_col1 {\n",
       "  width: 10em;\n",
       "  background: linear-gradient(90deg, # 84.3%, transparent 84.3%);\n",
       "  background-color: #b31218;\n",
       "  color: #f1f1f1;\n",
       "}\n",
       "#T_a7666_row7_col1 {\n",
       "  width: 10em;\n",
       "  background: linear-gradient(90deg, # 80.9%, transparent 80.9%);\n",
       "  background-color: #bf151b;\n",
       "  color: #f1f1f1;\n",
       "}\n",
       "#T_a7666_row8_col1 {\n",
       "  width: 10em;\n",
       "  background: linear-gradient(90deg, # 75.7%, transparent 75.7%);\n",
       "  background-color: #d01d1f;\n",
       "  color: #f1f1f1;\n",
       "}\n",
       "#T_a7666_row9_col1 {\n",
       "  width: 10em;\n",
       "  background: linear-gradient(90deg, # 74.6%, transparent 74.6%);\n",
       "  background-color: #d32020;\n",
       "  color: #f1f1f1;\n",
       "}\n",
       "#T_a7666_row10_col1 {\n",
       "  width: 10em;\n",
       "  background: linear-gradient(90deg, # 73.0%, transparent 73.0%);\n",
       "  background-color: #d92523;\n",
       "  color: #f1f1f1;\n",
       "}\n",
       "#T_a7666_row11_col1 {\n",
       "  width: 10em;\n",
       "  background: linear-gradient(90deg, # 72.5%, transparent 72.5%);\n",
       "  background-color: #da2723;\n",
       "  color: #f1f1f1;\n",
       "}\n",
       "#T_a7666_row12_col1 {\n",
       "  width: 10em;\n",
       "  background: linear-gradient(90deg, # 69.9%, transparent 69.9%);\n",
       "  background-color: #e32f27;\n",
       "  color: #f1f1f1;\n",
       "}\n",
       "#T_a7666_row13_col1 {\n",
       "  width: 10em;\n",
       "  background: linear-gradient(90deg, # 61.6%, transparent 61.6%);\n",
       "  background-color: #f44d38;\n",
       "  color: #f1f1f1;\n",
       "}\n",
       "#T_a7666_row14_col1 {\n",
       "  width: 10em;\n",
       "  background: linear-gradient(90deg, # 58.8%, transparent 58.8%);\n",
       "  background-color: #f7593f;\n",
       "  color: #f1f1f1;\n",
       "}\n",
       "#T_a7666_row15_col1 {\n",
       "  width: 10em;\n",
       "  background: linear-gradient(90deg, # 57.5%, transparent 57.5%);\n",
       "  background-color: #f85f43;\n",
       "  color: #f1f1f1;\n",
       "}\n",
       "#T_a7666_row16_col1 {\n",
       "  width: 10em;\n",
       "  background: linear-gradient(90deg, # 56.2%, transparent 56.2%);\n",
       "  background-color: #fa6547;\n",
       "  color: #f1f1f1;\n",
       "}\n",
       "#T_a7666_row17_col1, #T_a7666_row18_col1 {\n",
       "  width: 10em;\n",
       "  background: linear-gradient(90deg, # 48.8%, transparent 48.8%);\n",
       "  background-color: #fc7f5f;\n",
       "  color: #f1f1f1;\n",
       "}\n",
       "#T_a7666_row19_col1 {\n",
       "  width: 10em;\n",
       "  background: linear-gradient(90deg, # 46.6%, transparent 46.6%);\n",
       "  background-color: #fc8767;\n",
       "  color: #f1f1f1;\n",
       "}\n",
       "#T_a7666_row20_col1 {\n",
       "  width: 10em;\n",
       "  background: linear-gradient(90deg, # 44.6%, transparent 44.6%);\n",
       "  background-color: #fc8e6e;\n",
       "  color: #000000;\n",
       "}\n",
       "#T_a7666_row21_col1 {\n",
       "  width: 10em;\n",
       "  background: linear-gradient(90deg, # 44.5%, transparent 44.5%);\n",
       "  background-color: #fc8f6f;\n",
       "  color: #000000;\n",
       "}\n",
       "#T_a7666_row22_col1 {\n",
       "  width: 10em;\n",
       "  background: linear-gradient(90deg, # 43.2%, transparent 43.2%);\n",
       "  background-color: #fc9373;\n",
       "  color: #000000;\n",
       "}\n",
       "#T_a7666_row23_col1 {\n",
       "  width: 10em;\n",
       "  background: linear-gradient(90deg, # 39.5%, transparent 39.5%);\n",
       "  background-color: #fca183;\n",
       "  color: #000000;\n",
       "}\n",
       "#T_a7666_row24_col1 {\n",
       "  width: 10em;\n",
       "  background: linear-gradient(90deg, # 37.0%, transparent 37.0%);\n",
       "  background-color: #fcaa8d;\n",
       "  color: #000000;\n",
       "}\n",
       "#T_a7666_row25_col1 {\n",
       "  width: 10em;\n",
       "  background: linear-gradient(90deg, # 35.5%, transparent 35.5%);\n",
       "  background-color: #fcaf93;\n",
       "  color: #000000;\n",
       "}\n",
       "#T_a7666_row26_col1 {\n",
       "  width: 10em;\n",
       "  background: linear-gradient(90deg, # 24.7%, transparent 24.7%);\n",
       "  background-color: #fdd4c2;\n",
       "  color: #000000;\n",
       "}\n",
       "#T_a7666_row27_col1 {\n",
       "  width: 10em;\n",
       "  background: linear-gradient(90deg, # 21.6%, transparent 21.6%);\n",
       "  background-color: #fedfd0;\n",
       "  color: #000000;\n",
       "}\n",
       "#T_a7666_row28_col1 {\n",
       "  width: 10em;\n",
       "  background: linear-gradient(90deg, # 13.4%, transparent 13.4%);\n",
       "  background-color: #ffeee7;\n",
       "  color: #000000;\n",
       "}\n",
       "#T_a7666_row29_col1 {\n",
       "  width: 10em;\n",
       "  background: linear-gradient(90deg, # 12.5%, transparent 12.5%);\n",
       "  background-color: #fff0e8;\n",
       "  color: #000000;\n",
       "}\n",
       "#T_a7666_row30_col1 {\n",
       "  width: 10em;\n",
       "  background: linear-gradient(90deg, # 12.4%, transparent 12.4%);\n",
       "  background-color: #fff0e9;\n",
       "  color: #000000;\n",
       "}\n",
       "#T_a7666_row31_col1 {\n",
       "  width: 10em;\n",
       "  background: linear-gradient(90deg, # 9.6%, transparent 9.6%);\n",
       "  background-color: #fff5f0;\n",
       "  color: #000000;\n",
       "}\n",
       "</style>\n",
       "<table id=\"T_a7666\">\n",
       "  <thead>\n",
       "    <tr>\n",
       "      <th class=\"blank level0\" >&nbsp;</th>\n",
       "      <th id=\"T_a7666_level0_col0\" class=\"col_heading level0 col0\" >trimer</th>\n",
       "      <th id=\"T_a7666_level0_col1\" class=\"col_heading level0 col1\" >count</th>\n",
       "    </tr>\n",
       "  </thead>\n",
       "  <tbody>\n",
       "    <tr>\n",
       "      <th id=\"T_a7666_level0_row0\" class=\"row_heading level0 row0\" >3</th>\n",
       "      <td id=\"T_a7666_row0_col0\" class=\"data row0 col0\" >AAT</td>\n",
       "      <td id=\"T_a7666_row0_col1\" class=\"data row0 col1\" >760</td>\n",
       "    </tr>\n",
       "    <tr>\n",
       "      <th id=\"T_a7666_level0_row1\" class=\"row_heading level0 row1\" >4</th>\n",
       "      <td id=\"T_a7666_row1_col0\" class=\"data row1 col0\" >ACA</td>\n",
       "      <td id=\"T_a7666_row1_col1\" class=\"data row1 col1\" >755</td>\n",
       "    </tr>\n",
       "    <tr>\n",
       "      <th id=\"T_a7666_level0_row2\" class=\"row_heading level0 row2\" >13</th>\n",
       "      <td id=\"T_a7666_row2_col0\" class=\"data row2 col0\" >ATG</td>\n",
       "      <td id=\"T_a7666_row2_col1\" class=\"data row2 col1\" >723</td>\n",
       "    </tr>\n",
       "    <tr>\n",
       "      <th id=\"T_a7666_level0_row3\" class=\"row_heading level0 row3\" >30</th>\n",
       "      <td id=\"T_a7666_row3_col0\" class=\"data row3 col0\" >TAA</td>\n",
       "      <td id=\"T_a7666_row3_col1\" class=\"data row3 col1\" >717</td>\n",
       "    </tr>\n",
       "    <tr>\n",
       "      <th id=\"T_a7666_level0_row4\" class=\"row_heading level0 row4\" >14</th>\n",
       "      <td id=\"T_a7666_row4_col0\" class=\"data row4 col0\" >CAA</td>\n",
       "      <td id=\"T_a7666_row4_col1\" class=\"data row4 col1\" >702</td>\n",
       "    </tr>\n",
       "    <tr>\n",
       "      <th id=\"T_a7666_level0_row5\" class=\"row_heading level0 row5\" >7</th>\n",
       "      <td id=\"T_a7666_row5_col0\" class=\"data row5 col0\" >ACT</td>\n",
       "      <td id=\"T_a7666_row5_col1\" class=\"data row5 col1\" >675</td>\n",
       "    </tr>\n",
       "    <tr>\n",
       "      <th id=\"T_a7666_level0_row6\" class=\"row_heading level0 row6\" >0</th>\n",
       "      <td id=\"T_a7666_row6_col0\" class=\"data row6 col0\" >AAA</td>\n",
       "      <td id=\"T_a7666_row6_col1\" class=\"data row6 col1\" >641</td>\n",
       "    </tr>\n",
       "    <tr>\n",
       "      <th id=\"T_a7666_level0_row7\" class=\"row_heading level0 row7\" >1</th>\n",
       "      <td id=\"T_a7666_row7_col0\" class=\"data row7 col0\" >AAC</td>\n",
       "      <td id=\"T_a7666_row7_col1\" class=\"data row7 col1\" >615</td>\n",
       "    </tr>\n",
       "    <tr>\n",
       "      <th id=\"T_a7666_level0_row8\" class=\"row_heading level0 row8\" >2</th>\n",
       "      <td id=\"T_a7666_row8_col0\" class=\"data row8 col0\" >AAG</td>\n",
       "      <td id=\"T_a7666_row8_col1\" class=\"data row8 col1\" >575</td>\n",
       "    </tr>\n",
       "    <tr>\n",
       "      <th id=\"T_a7666_level0_row9\" class=\"row_heading level0 row9\" >8</th>\n",
       "      <td id=\"T_a7666_row9_col0\" class=\"data row9 col0\" >AGA</td>\n",
       "      <td id=\"T_a7666_row9_col1\" class=\"data row9 col1\" >567</td>\n",
       "    </tr>\n",
       "    <tr>\n",
       "      <th id=\"T_a7666_level0_row10\" class=\"row_heading level0 row10\" >22</th>\n",
       "      <td id=\"T_a7666_row10_col0\" class=\"data row10 col0\" >CTA</td>\n",
       "      <td id=\"T_a7666_row10_col1\" class=\"data row10 col1\" >555</td>\n",
       "    </tr>\n",
       "    <tr>\n",
       "      <th id=\"T_a7666_level0_row11\" class=\"row_heading level0 row11\" >31</th>\n",
       "      <td id=\"T_a7666_row11_col0\" class=\"data row11 col0\" >TCA</td>\n",
       "      <td id=\"T_a7666_row11_col1\" class=\"data row11 col1\" >551</td>\n",
       "    </tr>\n",
       "    <tr>\n",
       "      <th id=\"T_a7666_level0_row12\" class=\"row_heading level0 row12\" >24</th>\n",
       "      <td id=\"T_a7666_row12_col0\" class=\"data row12 col0\" >GAA</td>\n",
       "      <td id=\"T_a7666_row12_col1\" class=\"data row12 col1\" >531</td>\n",
       "    </tr>\n",
       "    <tr>\n",
       "      <th id=\"T_a7666_level0_row13\" class=\"row_heading level0 row13\" >29</th>\n",
       "      <td id=\"T_a7666_row13_col0\" class=\"data row13 col0\" >GTA</td>\n",
       "      <td id=\"T_a7666_row13_col1\" class=\"data row13 col1\" >468</td>\n",
       "    </tr>\n",
       "    <tr>\n",
       "      <th id=\"T_a7666_level0_row14\" class=\"row_heading level0 row14\" >11</th>\n",
       "      <td id=\"T_a7666_row14_col0\" class=\"data row14 col0\" >ATA</td>\n",
       "      <td id=\"T_a7666_row14_col1\" class=\"data row14 col1\" >447</td>\n",
       "    </tr>\n",
       "    <tr>\n",
       "      <th id=\"T_a7666_level0_row15\" class=\"row_heading level0 row15\" >16</th>\n",
       "      <td id=\"T_a7666_row15_col0\" class=\"data row15 col0\" >CAG</td>\n",
       "      <td id=\"T_a7666_row15_col1\" class=\"data row15 col1\" >437</td>\n",
       "    </tr>\n",
       "    <tr>\n",
       "      <th id=\"T_a7666_level0_row16\" class=\"row_heading level0 row16\" >15</th>\n",
       "      <td id=\"T_a7666_row16_col0\" class=\"data row16 col0\" >CAC</td>\n",
       "      <td id=\"T_a7666_row16_col1\" class=\"data row16 col1\" >427</td>\n",
       "    </tr>\n",
       "    <tr>\n",
       "      <th id=\"T_a7666_level0_row17\" class=\"row_heading level0 row17\" >5</th>\n",
       "      <td id=\"T_a7666_row17_col0\" class=\"data row17 col0\" >ACC</td>\n",
       "      <td id=\"T_a7666_row17_col1\" class=\"data row17 col1\" >371</td>\n",
       "    </tr>\n",
       "    <tr>\n",
       "      <th id=\"T_a7666_level0_row18\" class=\"row_heading level0 row18\" >26</th>\n",
       "      <td id=\"T_a7666_row18_col0\" class=\"data row18 col0\" >GCA</td>\n",
       "      <td id=\"T_a7666_row18_col1\" class=\"data row18 col1\" >371</td>\n",
       "    </tr>\n",
       "    <tr>\n",
       "      <th id=\"T_a7666_level0_row19\" class=\"row_heading level0 row19\" >17</th>\n",
       "      <td id=\"T_a7666_row19_col0\" class=\"data row19 col0\" >CCA</td>\n",
       "      <td id=\"T_a7666_row19_col1\" class=\"data row19 col1\" >354</td>\n",
       "    </tr>\n",
       "    <tr>\n",
       "      <th id=\"T_a7666_level0_row20\" class=\"row_heading level0 row20\" >12</th>\n",
       "      <td id=\"T_a7666_row20_col0\" class=\"data row20 col0\" >ATC</td>\n",
       "      <td id=\"T_a7666_row20_col1\" class=\"data row20 col1\" >339</td>\n",
       "    </tr>\n",
       "    <tr>\n",
       "      <th id=\"T_a7666_level0_row21\" class=\"row_heading level0 row21\" >25</th>\n",
       "      <td id=\"T_a7666_row21_col0\" class=\"data row21 col0\" >GAC</td>\n",
       "      <td id=\"T_a7666_row21_col1\" class=\"data row21 col1\" >338</td>\n",
       "    </tr>\n",
       "    <tr>\n",
       "      <th id=\"T_a7666_level0_row22\" class=\"row_heading level0 row22\" >10</th>\n",
       "      <td id=\"T_a7666_row22_col0\" class=\"data row22 col0\" >AGG</td>\n",
       "      <td id=\"T_a7666_row22_col1\" class=\"data row22 col1\" >328</td>\n",
       "    </tr>\n",
       "    <tr>\n",
       "      <th id=\"T_a7666_level0_row23\" class=\"row_heading level0 row23\" >9</th>\n",
       "      <td id=\"T_a7666_row23_col0\" class=\"data row23 col0\" >AGC</td>\n",
       "      <td id=\"T_a7666_row23_col1\" class=\"data row23 col1\" >300</td>\n",
       "    </tr>\n",
       "    <tr>\n",
       "      <th id=\"T_a7666_level0_row24\" class=\"row_heading level0 row24\" >28</th>\n",
       "      <td id=\"T_a7666_row24_col0\" class=\"data row24 col0\" >GGA</td>\n",
       "      <td id=\"T_a7666_row24_col1\" class=\"data row24 col1\" >281</td>\n",
       "    </tr>\n",
       "    <tr>\n",
       "      <th id=\"T_a7666_level0_row25\" class=\"row_heading level0 row25\" >23</th>\n",
       "      <td id=\"T_a7666_row25_col0\" class=\"data row25 col0\" >CTC</td>\n",
       "      <td id=\"T_a7666_row25_col1\" class=\"data row25 col1\" >270</td>\n",
       "    </tr>\n",
       "    <tr>\n",
       "      <th id=\"T_a7666_level0_row26\" class=\"row_heading level0 row26\" >27</th>\n",
       "      <td id=\"T_a7666_row26_col0\" class=\"data row26 col0\" >GCC</td>\n",
       "      <td id=\"T_a7666_row26_col1\" class=\"data row26 col1\" >188</td>\n",
       "    </tr>\n",
       "    <tr>\n",
       "      <th id=\"T_a7666_level0_row27\" class=\"row_heading level0 row27\" >6</th>\n",
       "      <td id=\"T_a7666_row27_col0\" class=\"data row27 col0\" >ACG</td>\n",
       "      <td id=\"T_a7666_row27_col1\" class=\"data row27 col1\" >164</td>\n",
       "    </tr>\n",
       "    <tr>\n",
       "      <th id=\"T_a7666_level0_row28\" class=\"row_heading level0 row28\" >18</th>\n",
       "      <td id=\"T_a7666_row28_col0\" class=\"data row28 col0\" >CCC</td>\n",
       "      <td id=\"T_a7666_row28_col1\" class=\"data row28 col1\" >102</td>\n",
       "    </tr>\n",
       "    <tr>\n",
       "      <th id=\"T_a7666_level0_row29\" class=\"row_heading level0 row29\" >20</th>\n",
       "      <td id=\"T_a7666_row29_col0\" class=\"data row29 col0\" >CGA</td>\n",
       "      <td id=\"T_a7666_row29_col1\" class=\"data row29 col1\" >95</td>\n",
       "    </tr>\n",
       "    <tr>\n",
       "      <th id=\"T_a7666_level0_row30\" class=\"row_heading level0 row30\" >21</th>\n",
       "      <td id=\"T_a7666_row30_col0\" class=\"data row30 col0\" >CGC</td>\n",
       "      <td id=\"T_a7666_row30_col1\" class=\"data row30 col1\" >94</td>\n",
       "    </tr>\n",
       "    <tr>\n",
       "      <th id=\"T_a7666_level0_row31\" class=\"row_heading level0 row31\" >19</th>\n",
       "      <td id=\"T_a7666_row31_col0\" class=\"data row31 col0\" >CCG</td>\n",
       "      <td id=\"T_a7666_row31_col1\" class=\"data row31 col1\" >73</td>\n",
       "    </tr>\n",
       "  </tbody>\n",
       "</table>\n"
      ],
      "text/plain": [
       "<pandas.io.formats.style.Styler at 0x162ccd6a0>"
      ]
     },
     "execution_count": 15,
     "metadata": {},
     "output_type": "execute_result"
    }
   ],
   "source": [
    "tri = pd.DataFrame.from_dict(composition, orient ='index')\n",
    "tri = tri.reset_index()\n",
    "tri = tri.rename(columns={\"index\": \"trimer\", 0: \"count\"})\n",
    "tri.sort_values(by='count', ascending=False, inplace=True)\n",
    "tri.style.bar(subset=[\"count\"],color='#').background_gradient(cmap='Reds')"
   ]
  },
  {
   "cell_type": "code",
   "execution_count": 16,
   "id": "c76aa6a8-5d00-4352-bd1a-8c0fb1c2c1f4",
   "metadata": {},
   "outputs": [
    {
     "data": {
      "text/plain": [
       "<Axes: xlabel='count', ylabel='trimer'>"
      ]
     },
     "execution_count": 16,
     "metadata": {},
     "output_type": "execute_result"
    },
    {
     "data": {
      "image/png": "[encoded data removed]",
      "text/plain": [
       "<Figure size 1200x800 with 1 Axes>"
      ]
     },
     "metadata": {},
     "output_type": "display_data"
    }
   ],
   "source": [
    "fig_dims = (12, 8)\n",
    "fig, ax = plt.subplots(figsize=fig_dims)\n",
    "sns.barplot(x=\"count\", y=\"trimer\", ax=ax, data=tri, hue='trimer')"
   ]
  },
  {
   "cell_type": "markdown",
   "id": "906e78a0-ec61-475b-9591-967755661b4d",
   "metadata": {},
   "source": [
    "### 4.5 Imitating Protein Synthesis\n",
    "\n",
    "In the section on imitating protein synthesis, we aim to simulate the process by which DNA sequences are transcribed into mRNA and then translated into protein. This process involves several key steps, including transcription, where DNA is converted into mRNA by RNA polymerase, and translation, where mRNA is decoded by ribosomes to produce a sequence of amino acids, forming a protein.\n",
    "\n",
    "To simulate this process, we'll first transcribe the DNA sequence into mRNA, considering the complementary base pairing rules (A-U and C-G). Then, we'll translate the mRNA sequence into a sequence of amino acids using the genetic code, where each three-nucleotide codon corresponds to a specific amino acid or a stop signal. "
   ]
  },
  {
   "cell_type": "markdown",
   "id": "eeb28183-f964-4ddf-921c-436941f1b7c8",
   "metadata": {},
   "source": [
    "![Image Alt Text](images/proteinimit.jpeg)"
   ]
  },
  {
   "cell_type": "markdown",
   "id": "556b4b5b-3b4e-490f-b3a3-9d0a65c5ca7c",
   "metadata": {},
   "source": [
    "#### Transcription and translation"
   ]
  },
  {
   "cell_type": "code",
   "execution_count": 18,
   "id": "8f85c0ca-8088-4d87-a391-017d18840d37",
   "metadata": {},
   "outputs": [
    {
     "data": {
      "text/plain": [
       "Seq('SQVTNQPTFDLL*ICSLNEL*NLCGCHSAACLVHSRSIINN*LLSLTGHE*LVY...AS*')"
      ]
     },
     "execution_count": 18,
     "metadata": {},
     "output_type": "execute_result"
    }
   ],
   "source": [
    "cov_mrna = cov_dna.transcribe()\n",
    "cov_protein = cov_mrna.translate()\n",
    "cov_protein"
   ]
  },
  {
   "cell_type": "markdown",
   "id": "131a99e4-2b1c-488e-ab42-b0689f70e587",
   "metadata": {},
   "source": [
    "#### Finding the Amino Acids from the Protein Structure"
   ]
  },
  {
   "cell_type": "code",
   "execution_count": 19,
   "id": "fc26c16f-cbff-4f16-9757-398d018273d2",
   "metadata": {},
   "outputs": [
    {
     "data": {
      "text/plain": [
       "[Seq('SQVTNQPTFDLL'),\n",
       " Seq('ICSLNEL'),\n",
       " Seq('NLCGCHSAACLVHSRSIINN'),\n",
       " Seq('LLSLTGHE'),\n",
       " Seq('LVYLLQAAYGFVRVAADHQHI'),\n",
       " Seq('VLSGCDRKVRWRALSLVSTRKHTSNSVCLFYRFATCSYVALETPWRRSYQRHVN...LVA'),\n",
       " Seq(''),\n",
       " Seq('KLKKASCLNLNSPMCSSNVRMLELHLMVMLWLSW'),\n",
       " Seq('QNSKAFSTVVVVRHLVSLSLMWAKYQWLTARFFFVRTVIKELVAIVTAPI'),\n",
       " Seq('SHLT')]"
      ]
     },
     "execution_count": 19,
     "metadata": {},
     "output_type": "execute_result"
    }
   ],
   "source": [
    "cov_aa_list = cov_protein.split(\"*\")\n",
    "cov_aa_list[0:10]"
   ]
  },
  {
   "cell_type": "markdown",
   "id": "78da87d5-a7f9-4e9b-9624-68a33afcc58f",
   "metadata": {},
   "source": [
    "#### Cleaning Protein list"
   ]
  },
  {
   "cell_type": "code",
   "execution_count": 20,
   "id": "1ece5cdf-5d92-4ed9-a209-ca3a30561403",
   "metadata": {},
   "outputs": [
    {
     "data": {
      "text/plain": [
       "['NLCGCHSAACLVHSRSIINN',\n",
       " 'LVYLLQAAYGFVRVAADHQHI',\n",
       " 'VLSGCDRKVRWRALSLVSTRKHTSNSVCLFYRFATCSYVALETPWRRSYQRHVNILKMALVA',\n",
       " 'KLKKASCLNLNSPMCSSNVRMLELHLMVMLWLSW',\n",
       " 'QNSKAFSTVVVVRHLVSLSLMWAKYQWLTARFFFVRTVIKELVAIVTAPI',\n",
       " 'ATSLALILMKIFKKTGTLNIAVVLPVNSCVSLTEGHTLAMSITTSVALMATLLSALKTF',\n",
       " 'HVLVKLHALCPNNWTLLTLRGVYTAAVNMSMKLLGTRNVLKRAMNCRHLLKLNWQRNLTPSMGNVQILYFP',\n",
       " 'SRLFNQGLKRKSLMALWVEFDLSIQLRHQMNATKCAFQLS',\n",
       " 'SVIIVVKLHGRRAILLKPLANFVALRI',\n",
       " 'LKKVPLLVVTYPKMLLLKFIVQHVTIQK']"
      ]
     },
     "execution_count": 20,
     "metadata": {},
     "output_type": "execute_result"
    }
   ],
   "source": [
    "#Remove chains smaller than 20 amino acids long\n",
    "clean_aa_list = [str(aa) for aa in cov_aa_list if len(aa) >= 20]\n",
    "clean_aa_list[0:10]"
   ]
  },
  {
   "cell_type": "markdown",
   "id": "e0510da3-e61c-44eb-88c4-6279a3d7e13e",
   "metadata": {},
   "source": [
    "### 4.6 Protein Analysis\n",
    "\n",
    "Protein analysis refers to the systematic study of proteins to understand their structure, function, interactions, and properties.\n",
    "\n",
    "**Molecular Weight**: The molecular weight of a protein is the sum of the atomic weights of all atoms in its molecule. It's a critical parameter as it influences various aspects of protein behavior, including its folding, stability, and interactions with other molecules.\n",
    "\n",
    "**Aromaticity**: Aromaticity refers to the presence of aromatic amino acids, such as phenylalanine, tyrosine, and tryptophan, in a protein sequence. Aromatic amino acids contribute to the protein's structure and function, often playing key roles in ligand binding, catalysis, and protein-protein interactions.\n",
    "\n",
    "**Isoelectric Point (pI)**: The isoelectric point (pI) is the pH at which a protein has no net charge. It's a crucial parameter for protein purification and characterization, as proteins tend to be least soluble at their pI. The pI is determined by the distribution of charged amino acids (acidic and basic) in the protein sequence.\n",
    "\n",
    "We are considering the longest amino acid for analysis."
   ]
  },
  {
   "cell_type": "markdown",
   "id": "caf42148-2d9e-4005-8c1b-c52f9c4983f2",
   "metadata": {},
   "source": [
    "#### Finding longest amino acid for analysis"
   ]
  },
  {
   "cell_type": "code",
   "execution_count": 21,
   "id": "8d2cafc8-c49a-4d84-af8a-712c862d3d1c",
   "metadata": {},
   "outputs": [
    {
     "data": {
      "text/plain": [
       "'SSGLNELNIILVFLFGTLILAMADSNGTITVXELKKLLEQWNLVIGFLFLTWICLLQFAYANRNRFLYIIKLIFLWLLWPVTLACFVLAAVYRINWITGGIAIAMACLVGLMWLSYFIASFRLFARTRSMWSFNPETNILLNVPLHGTILTRPLLESELVIGAVILRGHLRIAGHHLGRCDIKDLPKEITVATSRTLSYYKLGASQRVAGDSGFAAYSRYRIGNYKLNTDHSSSSDNIALLVQ'"
      ]
     },
     "execution_count": 21,
     "metadata": {},
     "output_type": "execute_result"
    }
   ],
   "source": [
    "pdf = pd.DataFrame({\"amino_acids\":clean_aa_list})\n",
    "pdf['count'] = pdf['amino_acids'].str.len()\n",
    "longest_aa = pdf.nlargest(1, \"count\")\n",
    "aa = longest_aa['amino_acids'].iloc[0]\n",
    "aa"
   ]
  },
  {
   "cell_type": "markdown",
   "id": "812d82af-0e6d-4510-a017-c82695351abe",
   "metadata": {},
   "source": [
    "#### Cleaning amino acid\n",
    "The \"X\" character in a protein sequence typically represents an unknown or ambiguous amino acid residue. It could indicate that the specific identity of that residue is uncertain due to experimental limitations, sequencing errors, or other factors."
   ]
  },
  {
   "cell_type": "code",
   "execution_count": 22,
   "id": "de53e4fb-fea3-49c9-bf0c-5851a0a66eb9",
   "metadata": {},
   "outputs": [],
   "source": [
    "clean_aa = ''\n",
    "for i in aa:\n",
    "    if(i!='X'):\n",
    "        clean_aa = clean_aa + i"
   ]
  },
  {
   "cell_type": "markdown",
   "id": "3fbda213-4f24-47b2-8e65-e2e426e15494",
   "metadata": {},
   "source": [
    "#### Analysis"
   ]
  },
  {
   "cell_type": "code",
   "execution_count": 23,
   "id": "35783c0c-259b-49bf-8ed7-d99e49abc1c1",
   "metadata": {},
   "outputs": [
    {
     "name": "stdout",
     "output_type": "stream",
     "text": [
      "Molecular weight:  27246.84670000003\n",
      "\n",
      "Aromaticity:  0.11983471074380166\n",
      "\n",
      "Isoelectric point:  9.509038352966307\n"
     ]
    }
   ],
   "source": [
    "pa = ProteinAnalysis(clean_aa)\n",
    "\n",
    "MW = pa.molecular_weight()\n",
    "print(\"Molecular weight: \", MW)\n",
    "\n",
    "A = pa.aromaticity()\n",
    "print(\"\\nAromaticity: \", A)\n",
    "\n",
    "I = pa.isoelectric_point()\n",
    "print(\"\\nIsoelectric point: \", I)"
   ]
  },
  {
   "cell_type": "markdown",
   "id": "a01e640f-2bda-4bf5-9afb-b9f1d54161bb",
   "metadata": {},
   "source": [
    "### 4.7 Amino Acid Composition\n",
    "Amino acid composition refers to the distribution and frequency of individual amino acids within a protein sequence. "
   ]
  },
  {
   "cell_type": "code",
   "execution_count": 24,
   "id": "43ed6bb1-bfe0-43e9-8520-c03248387ffd",
   "metadata": {},
   "outputs": [
    {
     "data": {
      "text/html": [
       "<style type=\"text/css\">\n",
       "#T_83f65_row0_col1 {\n",
       "  width: 10em;\n",
       "  background: linear-gradient(90deg, # 100.0%, transparent 100.0%);\n",
       "  background-color: #3f007d;\n",
       "  color: #f1f1f1;\n",
       "}\n",
       "#T_83f65_row1_col1 {\n",
       "  width: 10em;\n",
       "  background: linear-gradient(90deg, # 42.9%, transparent 42.9%);\n",
       "  background-color: #bcbddc;\n",
       "  color: #000000;\n",
       "}\n",
       "#T_83f65_row2_col1 {\n",
       "  width: 10em;\n",
       "  background: linear-gradient(90deg, # 41.2%, transparent 41.2%);\n",
       "  background-color: #bfc0de;\n",
       "  color: #000000;\n",
       "}\n",
       "#T_83f65_row3_col1 {\n",
       "  width: 10em;\n",
       "  background: linear-gradient(90deg, # 37.9%, transparent 37.9%);\n",
       "  background-color: #c8c8e2;\n",
       "  color: #000000;\n",
       "}\n",
       "#T_83f65_row4_col1 {\n",
       "  width: 10em;\n",
       "  background: linear-gradient(90deg, # 35.5%, transparent 35.5%);\n",
       "  background-color: #cecfe5;\n",
       "  color: #000000;\n",
       "}\n",
       "#T_83f65_row5_col1 {\n",
       "  width: 10em;\n",
       "  background: linear-gradient(90deg, # 31.6%, transparent 31.6%);\n",
       "  background-color: #d9d9ea;\n",
       "  color: #000000;\n",
       "}\n",
       "#T_83f65_row6_col1 {\n",
       "  width: 10em;\n",
       "  background: linear-gradient(90deg, # 28.8%, transparent 28.8%);\n",
       "  background-color: #dedeed;\n",
       "  color: #000000;\n",
       "}\n",
       "#T_83f65_row7_col1 {\n",
       "  width: 10em;\n",
       "  background: linear-gradient(90deg, # 28.2%, transparent 28.2%);\n",
       "  background-color: #dfdfed;\n",
       "  color: #000000;\n",
       "}\n",
       "#T_83f65_row8_col1 {\n",
       "  width: 10em;\n",
       "  background: linear-gradient(90deg, # 28.0%, transparent 28.0%);\n",
       "  background-color: #e0dfee;\n",
       "  color: #000000;\n",
       "}\n",
       "#T_83f65_row9_col1 {\n",
       "  width: 10em;\n",
       "  background: linear-gradient(90deg, # 24.9%, transparent 24.9%);\n",
       "  background-color: #e6e5f1;\n",
       "  color: #000000;\n",
       "}\n",
       "#T_83f65_row10_col1 {\n",
       "  width: 10em;\n",
       "  background: linear-gradient(90deg, # 24.4%, transparent 24.4%);\n",
       "  background-color: #e6e5f1;\n",
       "  color: #000000;\n",
       "}\n",
       "#T_83f65_row11_col1 {\n",
       "  width: 10em;\n",
       "  background: linear-gradient(90deg, # 22.4%, transparent 22.4%);\n",
       "  background-color: #eae9f3;\n",
       "  color: #000000;\n",
       "}\n",
       "#T_83f65_row12_col1 {\n",
       "  width: 10em;\n",
       "  background: linear-gradient(90deg, # 20.2%, transparent 20.2%);\n",
       "  background-color: #eeecf5;\n",
       "  color: #000000;\n",
       "}\n",
       "#T_83f65_row13_col1 {\n",
       "  width: 10em;\n",
       "  background: linear-gradient(90deg, # 18.1%, transparent 18.1%);\n",
       "  background-color: #f1eff6;\n",
       "  color: #000000;\n",
       "}\n",
       "#T_83f65_row14_col1 {\n",
       "  width: 10em;\n",
       "  background: linear-gradient(90deg, # 15.9%, transparent 15.9%);\n",
       "  background-color: #f3f2f8;\n",
       "  color: #000000;\n",
       "}\n",
       "#T_83f65_row15_col1 {\n",
       "  width: 10em;\n",
       "  background: linear-gradient(90deg, # 15.8%, transparent 15.8%);\n",
       "  background-color: #f3f2f8;\n",
       "  color: #000000;\n",
       "}\n",
       "#T_83f65_row16_col1 {\n",
       "  width: 10em;\n",
       "  background: linear-gradient(90deg, # 14.1%, transparent 14.1%);\n",
       "  background-color: #f5f4f9;\n",
       "  color: #000000;\n",
       "}\n",
       "#T_83f65_row17_col1 {\n",
       "  width: 10em;\n",
       "  background: linear-gradient(90deg, # 11.7%, transparent 11.7%);\n",
       "  background-color: #f8f7fa;\n",
       "  color: #000000;\n",
       "}\n",
       "#T_83f65_row18_col1 {\n",
       "  width: 10em;\n",
       "  background: linear-gradient(90deg, # 11.6%, transparent 11.6%);\n",
       "  background-color: #f8f7fb;\n",
       "  color: #000000;\n",
       "}\n",
       "#T_83f65_row19_col1 {\n",
       "  width: 10em;\n",
       "  background: linear-gradient(90deg, # 8.1%, transparent 8.1%);\n",
       "  background-color: #fcfbfd;\n",
       "  color: #000000;\n",
       "}\n",
       "</style>\n",
       "<table id=\"T_83f65\">\n",
       "  <thead>\n",
       "    <tr>\n",
       "      <th class=\"blank level0\" >&nbsp;</th>\n",
       "      <th id=\"T_83f65_level0_col0\" class=\"col_heading level0 col0\" >amino_acid</th>\n",
       "      <th id=\"T_83f65_level0_col1\" class=\"col_heading level0 col1\" >composition</th>\n",
       "    </tr>\n",
       "  </thead>\n",
       "  <tbody>\n",
       "    <tr>\n",
       "      <th id=\"T_83f65_level0_row0\" class=\"row_heading level0 row0\" >17</th>\n",
       "      <td id=\"T_83f65_row0_col0\" class=\"data row0 col0\" >L</td>\n",
       "      <td id=\"T_83f65_row0_col1\" class=\"data row0 col1\" >16.455569</td>\n",
       "    </tr>\n",
       "    <tr>\n",
       "      <th id=\"T_83f65_level0_row1\" class=\"row_heading level0 row1\" >12</th>\n",
       "      <td id=\"T_83f65_row1_col0\" class=\"data row1 col0\" >S</td>\n",
       "      <td id=\"T_83f65_row1_col1\" class=\"data row1 col1\" >7.056695</td>\n",
       "    </tr>\n",
       "    <tr>\n",
       "      <th id=\"T_83f65_level0_row2\" class=\"row_heading level0 row2\" >6</th>\n",
       "      <td id=\"T_83f65_row2_col0\" class=\"data row2 col0\" >V</td>\n",
       "      <td id=\"T_83f65_row2_col1\" class=\"data row2 col1\" >6.775231</td>\n",
       "    </tr>\n",
       "    <tr>\n",
       "      <th id=\"T_83f65_level0_row3\" class=\"row_heading level0 row3\" >7</th>\n",
       "      <td id=\"T_83f65_row3_col0\" class=\"data row3 col0\" >T</td>\n",
       "      <td id=\"T_83f65_row3_col1\" class=\"data row3 col1\" >6.242461</td>\n",
       "    </tr>\n",
       "    <tr>\n",
       "      <th id=\"T_83f65_level0_row4\" class=\"row_heading level0 row4\" >13</th>\n",
       "      <td id=\"T_83f65_row4_col0\" class=\"data row4 col0\" >I</td>\n",
       "      <td id=\"T_83f65_row4_col1\" class=\"data row4 col1\" >5.840370</td>\n",
       "    </tr>\n",
       "    <tr>\n",
       "      <th id=\"T_83f65_level0_row5\" class=\"row_heading level0 row5\" >10</th>\n",
       "      <td id=\"T_83f65_row5_col0\" class=\"data row5 col0\" >K</td>\n",
       "      <td id=\"T_83f65_row5_col1\" class=\"data row5 col1\" >5.207077</td>\n",
       "    </tr>\n",
       "    <tr>\n",
       "      <th id=\"T_83f65_level0_row6\" class=\"row_heading level0 row6\" >4</th>\n",
       "      <td id=\"T_83f65_row6_col0\" class=\"data row6 col0\" >C</td>\n",
       "      <td id=\"T_83f65_row6_col1\" class=\"data row6 col1\" >4.734620</td>\n",
       "    </tr>\n",
       "    <tr>\n",
       "      <th id=\"T_83f65_level0_row7\" class=\"row_heading level0 row7\" >11</th>\n",
       "      <td id=\"T_83f65_row7_col0\" class=\"data row7 col0\" >R</td>\n",
       "      <td id=\"T_83f65_row7_col1\" class=\"data row7 col1\" >4.644150</td>\n",
       "    </tr>\n",
       "    <tr>\n",
       "      <th id=\"T_83f65_level0_row8\" class=\"row_heading level0 row8\" >16</th>\n",
       "      <td id=\"T_83f65_row8_col0\" class=\"data row8 col0\" >F</td>\n",
       "      <td id=\"T_83f65_row8_col1\" class=\"data row8 col1\" >4.613993</td>\n",
       "    </tr>\n",
       "    <tr>\n",
       "      <th id=\"T_83f65_level0_row9\" class=\"row_heading level0 row9\" >2</th>\n",
       "      <td id=\"T_83f65_row9_col0\" class=\"data row9 col0\" >Q</td>\n",
       "      <td id=\"T_83f65_row9_col1\" class=\"data row9 col1\" >4.091275</td>\n",
       "    </tr>\n",
       "    <tr>\n",
       "      <th id=\"T_83f65_level0_row10\" class=\"row_heading level0 row10\" >9</th>\n",
       "      <td id=\"T_83f65_row10_col0\" class=\"data row10 col0\" >N</td>\n",
       "      <td id=\"T_83f65_row10_col1\" class=\"data row10 col1\" >4.010856</td>\n",
       "    </tr>\n",
       "    <tr>\n",
       "      <th id=\"T_83f65_level0_row11\" class=\"row_heading level0 row11\" >14</th>\n",
       "      <td id=\"T_83f65_row11_col0\" class=\"data row11 col0\" >H</td>\n",
       "      <td id=\"T_83f65_row11_col1\" class=\"data row11 col1\" >3.689184</td>\n",
       "    </tr>\n",
       "    <tr>\n",
       "      <th id=\"T_83f65_level0_row12\" class=\"row_heading level0 row12\" >0</th>\n",
       "      <td id=\"T_83f65_row12_col0\" class=\"data row12 col0\" >Y</td>\n",
       "      <td id=\"T_83f65_row12_col1\" class=\"data row12 col1\" >3.327302</td>\n",
       "    </tr>\n",
       "    <tr>\n",
       "      <th id=\"T_83f65_level0_row13\" class=\"row_heading level0 row13\" >15</th>\n",
       "      <td id=\"T_83f65_row13_col0\" class=\"data row13 col0\" >M</td>\n",
       "      <td id=\"T_83f65_row13_col1\" class=\"data row13 col1\" >2.975472</td>\n",
       "    </tr>\n",
       "    <tr>\n",
       "      <th id=\"T_83f65_level0_row14\" class=\"row_heading level0 row14\" >1</th>\n",
       "      <td id=\"T_83f65_row14_col0\" class=\"data row14 col0\" >A</td>\n",
       "      <td id=\"T_83f65_row14_col1\" class=\"data row14 col1\" >2.613591</td>\n",
       "    </tr>\n",
       "    <tr>\n",
       "      <th id=\"T_83f65_level0_row15\" class=\"row_heading level0 row15\" >19</th>\n",
       "      <td id=\"T_83f65_row15_col0\" class=\"data row15 col0\" >P</td>\n",
       "      <td id=\"T_83f65_row15_col1\" class=\"data row15 col1\" >2.603538</td>\n",
       "    </tr>\n",
       "    <tr>\n",
       "      <th id=\"T_83f65_level0_row16\" class=\"row_heading level0 row16\" >5</th>\n",
       "      <td id=\"T_83f65_row16_col0\" class=\"data row16 col0\" >G</td>\n",
       "      <td id=\"T_83f65_row16_col1\" class=\"data row16 col1\" >2.322075</td>\n",
       "    </tr>\n",
       "    <tr>\n",
       "      <th id=\"T_83f65_level0_row17\" class=\"row_heading level0 row17\" >18</th>\n",
       "      <td id=\"T_83f65_row17_col0\" class=\"data row17 col0\" >W</td>\n",
       "      <td id=\"T_83f65_row17_col1\" class=\"data row17 col1\" >1.930036</td>\n",
       "    </tr>\n",
       "    <tr>\n",
       "      <th id=\"T_83f65_level0_row18\" class=\"row_heading level0 row18\" >8</th>\n",
       "      <td id=\"T_83f65_row18_col0\" class=\"data row18 col0\" >E</td>\n",
       "      <td id=\"T_83f65_row18_col1\" class=\"data row18 col1\" >1.909932</td>\n",
       "    </tr>\n",
       "    <tr>\n",
       "      <th id=\"T_83f65_level0_row19\" class=\"row_heading level0 row19\" >3</th>\n",
       "      <td id=\"T_83f65_row19_col0\" class=\"data row19 col0\" >D</td>\n",
       "      <td id=\"T_83f65_row19_col1\" class=\"data row19 col1\" >1.336952</td>\n",
       "    </tr>\n",
       "  </tbody>\n",
       "</table>\n"
      ],
      "text/plain": [
       "<pandas.io.formats.style.Styler at 0x1631688b0>"
      ]
     },
     "execution_count": 24,
     "metadata": {},
     "output_type": "execute_result"
    }
   ],
   "source": [
    "ac = da.amino_acid_composition(cov_protein)\n",
    "amc = pd.DataFrame.from_dict(ac, orient ='index')\n",
    "amc = amc.reset_index()\n",
    "amc = amc.rename(columns={\"index\": \"amino_acid\", 0: \"composition\"})\n",
    "r = amc.sort_values(by='composition', ascending=False)\n",
    "r.style.bar(subset=[\"composition\"],color='#').background_gradient(cmap='Purples')"
   ]
  },
  {
   "cell_type": "code",
   "execution_count": 25,
   "id": "753c7b26-2acf-4913-b0a5-e049e2fcb3ed",
   "metadata": {},
   "outputs": [
    {
     "data": {
      "image/png": "[encoded data removed]",
      "text/plain": [
       "<Figure size 640x480 with 1 Axes>"
      ]
     },
     "metadata": {},
     "output_type": "display_data"
    }
   ],
   "source": [
    "ax = sns.barplot(x=\"amino_acid\", y=\"composition\", data=r, hue=\"amino_acid\")"
   ]
  },
  {
   "cell_type": "markdown",
   "id": "fea89302-af65-49c8-8104-98dd9cc41d00",
   "metadata": {},
   "source": [
    "### 4.8 Open Reading Frame\n",
    "Finding the Open Reading Frame (ORF) is a crucial step in molecular genetics for identifying segments of DNA that can potentially be translated into proteins. An ORF is a contiguous sequence of nucleotides that begins with a start codon and ends with a stop codon. By identifying ORFs within a DNA sequence, researchers can pinpoint regions with the potential to encode proteins and gain insights into gene structure, function, and regulation. This process is essential for genome annotation, gene prediction, and understanding the genetic basis of various biological processes."
   ]
  },
  {
   "cell_type": "code",
   "execution_count": 26,
   "id": "603376aa-8b2b-4dab-a03c-c02225bde3a7",
   "metadata": {},
   "outputs": [
    {
     "data": {
      "text/plain": [
       "[Seq('M*LTLISHSNL*SVCNIREDLKEPPHFHRGHAEYDRVYSEQC*GELPIWKSPNV...TOP'),\n",
       " Seq('MQTTQGRWAI*TFSLFRLRYIVYSCAE*ILVTT*HN*M*LTLISHSNL*SVCNI...TOP'),\n",
       " Seq('MISPNNCNNP*AVLTQLRPKLMQTTQGRWAI*TFSLFRLRYIVYSCAE*ILVTT...TOP'),\n",
       " Seq('MKLKPYRRDRRNSKL*LFFLLQIWMISPNNCNNP*AVLTQLRPKLMQTTQGRWA...TOP'),\n",
       " Seq('MTKIQISKIKSFC*ISILTHTKHSHQQSLKRTKRRRLMKLKPYRRDRRNSKL*L...TOP'),\n",
       " Seq('M*HKLSADVVQNKPKEILGTRN*SDKELITNIGRKLHNLPPALQRSSECRALAW...TOP'),\n",
       " Seq('MLLLFCCCLTD*TSLRAKCLVKANNNKAKLSLRNLLLRLLRSLGKNVLPLKHTM...TOP'),\n",
       " Seq('MAVMLLLFCCCLTD*TSLRAKCLVKANNNKAKLSLRNLLLRLLRSLGKNVLPLK...TOP'),\n",
       " Seq('MLQSCYNFLKEQHCQKASTQKGAEAAVKPLLVPHHVVATVQEIQLQAAVGELLL...TOP'),\n",
       " Seq('MVLTKTASYGLQLREP*IHQKITLAPAILLTMLQSCYNFLKEQHCQKASTQKGA...TOP')]"
      ]
     },
     "execution_count": 26,
     "metadata": {},
     "output_type": "execute_result"
    }
   ],
   "source": [
    "orf = []\n",
    "\n",
    "for i in cov_protein.split(\"STOP\"):\n",
    "    for n in range(len(i)-1, -1, -1):\n",
    "        if i[n] == \"M\":\n",
    "            orf.append(i[n:]+\"STOP\")\n",
    "\n",
    "orf[0:10]"
   ]
  },
  {
   "cell_type": "code",
   "execution_count": 27,
   "id": "3c719c9e-5324-4f6d-a077-23b335748c3f",
   "metadata": {},
   "outputs": [
    {
     "data": {
      "image/png": "[encoded data removed]",
      "text/plain": [
       "<Figure size 800x600 with 1 Axes>"
      ]
     },
     "metadata": {},
     "output_type": "display_data"
    }
   ],
   "source": [
    "orf_lengths = [len(o) for o in orf]\n",
    "\n",
    "# Plotting histogram\n",
    "plt.figure(figsize=(8, 6))\n",
    "plt.hist(orf_lengths, bins=10, color='skyblue', edgecolor='black')\n",
    "plt.xlabel('ORF Length')\n",
    "plt.ylabel('Frequency')\n",
    "plt.title('Length Distribution of ORFs')\n",
    "plt.grid(True)\n",
    "plt.show()"
   ]
  }
 ],
 "metadata": {
  "kernelspec": {
   "display_name": "Python 3 (ipykernel)",
   "language": "python",
   "name": "python3"
  },
  "language_info": {
   "codemirror_mode": {
    "name": "ipython",
    "version": 3
   },
   "file_extension": ".py",
   "mimetype": "text/x-python",
   "name": "python",
   "nbconvert_exporter": "python",
   "pygments_lexer": "ipython3",
   "version": "3.9.18"
  }
 },
 "nbformat": 4,
 "nbformat_minor": 5
}
